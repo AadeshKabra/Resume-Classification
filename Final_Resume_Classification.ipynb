{
 "cells": [
  {
   "cell_type": "markdown",
   "id": "f60affd3",
   "metadata": {},
   "source": [
    "# PDF to Text"
   ]
  },
  {
   "cell_type": "code",
   "execution_count": 1,
   "id": "b00e77c1",
   "metadata": {},
   "outputs": [],
   "source": [
    "from pdfminer.high_level import extract_text\n",
    " \n",
    " \n",
    "def extract_text_from_pdf(pdf_path):\n",
    "    return extract_text(pdf_path)"
   ]
  },
  {
   "cell_type": "markdown",
   "id": "a53d8047",
   "metadata": {},
   "source": [
    "# Docx to text"
   ]
  },
  {
   "cell_type": "code",
   "execution_count": 2,
   "id": "802931da",
   "metadata": {},
   "outputs": [],
   "source": [
    "import docx2txt\n",
    " \n",
    " \n",
    "def extract_text_from_docx(docx_path):\n",
    "    txt = docx2txt.process(docx_path)\n",
    "    if txt:\n",
    "        return txt.replace('\\t', ' ')\n",
    "    return None"
   ]
  },
  {
   "cell_type": "markdown",
   "id": "887bfce8",
   "metadata": {},
   "source": [
    "# Extracting complete Resume"
   ]
  },
  {
   "cell_type": "code",
   "execution_count": 3,
   "id": "a47153d7",
   "metadata": {},
   "outputs": [],
   "source": [
    "import spacy\n",
    "nlp = spacy.load(\"en_core_web_sm\")"
   ]
  },
  {
   "cell_type": "code",
   "execution_count": 4,
   "id": "2a4db1ba",
   "metadata": {},
   "outputs": [
    {
     "data": {
      "text/plain": [
       "'Ketan Yatin Gangwal    \\n\\n   ketangangwal1008@gmail.com | Ketan Gangwal | Ketang1008 | +91 9579763299\\n\\nEducation\\n\\n Vishwakarma Institute of Technology Pune\\n\\n BTech Artificial Intelligence and Data Science                    2020 – 2024\\n\\n 9.27/10\\n\\n\\n\\nExperience\\n\\n News App | Flutter, Dart, API, Postman \\n\\n News App using Flutter and NewsAPI. This app offers latest news, news according to different categories and news from multiple trusted sources.\\n\\n Recipe App | Flutter, Dart, API, Postman \\n\\n A recipe app with Flutter and Edamam API. This app offers all the recipes related to the items entered by the user.\\n\\n Real Time traffic Management System | IP, Machine learning, IOT, YOLO, Firebase Database\\n\\n Ever – increasing traffic requires real-time road traffic density calculations for improving the current traffic management system.\\n\\n By using Image Processing and Machine learning, traffic density has been calculated and traffic signals have been adjusted by calculating the green signal time that must be allotted to each lane at a junction using machine learning.\\n\\n Covid 19 Analysis | R, Data Analysis \\n\\n Visualized the changes in the number of affected cases over time, changes in the cases over time at country level and the latest number of cases using ggplot2.\\n\\n Analyzed the total number of cases , Deaths and Recoveries of top 9 states of India.\\n\\n\\n\\nExperience\\n\\n Android Developer | TRF, VIT Pune Oct 2021 – Present\\n\\n Learning about cross platform development using Flutter as a development tool to develop various applications for better development of the society.\\n\\n\\n\\nTechnical Skills\\n\\nProficient: C/C++, Python, Java, R, Dart, Application Development (Flutter) \\n\\nModerately Experience: SQL, Machine learning, IOT, Virtual Box\\n\\nDeveloper Tools: Git, Linux, VS Code, Google Colab, Jupyter Notebook, Eclipse\\n\\n\\n\\nExtracurriculars\\n\\n Administrator | TRF, VIT Pune                                                                   Oct 2021 - Present      \\n\\n Volunteered in Social Activity – “Aatmabodh” | SW&D, VIT Pune              Sept ‘21 – Oct ‘21'"
      ]
     },
     "execution_count": 4,
     "metadata": {},
     "output_type": "execute_result"
    }
   ],
   "source": [
    "desc = extract_text_from_docx('Ketan_Gangwal_VIT - Copy.docx')\n",
    "desc"
   ]
  },
  {
   "cell_type": "code",
   "execution_count": 5,
   "id": "f46ff4d4",
   "metadata": {},
   "outputs": [],
   "source": [
    "import re"
   ]
  },
  {
   "cell_type": "markdown",
   "id": "78809d94",
   "metadata": {},
   "source": [
    "# Cleaning the text"
   ]
  },
  {
   "cell_type": "code",
   "execution_count": 6,
   "id": "70c2b076",
   "metadata": {},
   "outputs": [
    {
     "name": "stdout",
     "output_type": "stream",
     "text": [
      "['Ketan Yatin Gangwal    ', '   ketangangwal1008@gmail', 'com | Ketan Gangwal | Ketang1008 | +91 9579763299', 'Education', ' Vishwakarma Institute of Technology Pune', ' BTech Artificial Intelligence and Data Science                    2020 – 2024', ' 9', '27/10', 'Experience', ' News App | Flutter, Dart, API, Postman ', ' News App using Flutter and NewsAPI', ' This app offers latest news, news according to different categories and news from multiple trusted sources', ' Recipe App | Flutter, Dart, API, Postman ', ' A recipe app with Flutter and Edamam API', ' This app offers all the recipes related to the items entered by the user', ' Real Time traffic Management System | IP, Machine learning, IOT, YOLO, Firebase Database', ' Ever – increasing traffic requires real-time road traffic density calculations for improving the current traffic management system', ' By using Image Processing and Machine learning, traffic density has been calculated and traffic signals have been adjusted by calculating the green signal time that must be allotted to each lane at a junction using machine learning', ' Covid 19 Analysis | R, Data Analysis ', ' Visualized the changes in the number of affected cases over time, changes in the cases over time at country level and the latest number of cases using ggplot2', ' Analyzed the total number of cases , Deaths and Recoveries of top 9 states of India', 'Experience', ' Android Developer | TRF, VIT Pune Oct 2021 – Present', ' Learning about cross platform development using Flutter as a development tool to develop various applications for better development of the society', 'Technical Skills', 'Proficient', ' C/C++, Python, Java, R, Dart, Application Development (Flutter) ', 'Moderately Experience', ' SQL, Machine learning, IOT, Virtual Box', 'Developer Tools', ' Git, Linux, VS Code, Google Colab, Jupyter Notebook, Eclipse', 'Extracurriculars', ' Administrator | TRF, VIT Pune                                                                   Oct 2021 - Present      ', ' Volunteered in Social Activity – “Aatmabodh” | SW&D, VIT Pune              Sept ‘21 – Oct ‘21']\n"
     ]
    }
   ],
   "source": [
    "desc = desc = desc.replace('\\n', '.')\n",
    "desc = desc.replace(':', '.')\n",
    "desc = desc.replace('\\xa0', ' ')\n",
    "desc = desc.replace('●', ' ')\n",
    "resume = re.split(\"\\.+\", desc)\n",
    "# print(sr)\n",
    "for i in resume:\n",
    "    if i == \" \" or i == '•' or i == \"  \":\n",
    "        resume.remove(i)\n",
    "print(resume)"
   ]
  },
  {
   "cell_type": "code",
   "execution_count": 7,
   "id": "29dc1284",
   "metadata": {},
   "outputs": [
    {
     "name": "stdout",
     "output_type": "stream",
     "text": [
      "Ketan Yatin Gangwal        ketangangwal1008@gmail com | Ketan Gangwal | Ketang1008 | +91 9579763299 Education  Vishwakarma Institute of Technology Pune  BTech Artificial Intelligence and Data Science                    2020 – 2024  9 27/10 Experience  News App | Flutter, Dart, API, Postman   News App using Flutter and NewsAPI  This app offers latest news, news according to different categories and news from multiple trusted sources  Recipe App | Flutter, Dart, API, Postman   A recipe app with Flutter and Edamam API  This app offers all the recipes related to the items entered by the user  Real Time traffic Management System | IP, Machine learning, IOT, YOLO, Firebase Database  Ever – increasing traffic requires real-time road traffic density calculations for improving the current traffic management system  By using Image Processing and Machine learning, traffic density has been calculated and traffic signals have been adjusted by calculating the green signal time that must be allotted to each lane at a junction using machine learning  Covid 19 Analysis | R, Data Analysis   Visualized the changes in the number of affected cases over time, changes in the cases over time at country level and the latest number of cases using ggplot2  Analyzed the total number of cases , Deaths and Recoveries of top 9 states of India Experience  Android Developer | TRF, VIT Pune Oct 2021 – Present  Learning about cross platform development using Flutter as a development tool to develop various applications for better development of the society Technical Skills Proficient  C/C++, Python, Java, R, Dart, Application Development (Flutter)  Moderately Experience  SQL, Machine learning, IOT, Virtual Box Developer Tools  Git, Linux, VS Code, Google Colab, Jupyter Notebook, Eclipse Extracurriculars  Administrator | TRF, VIT Pune                                                                   Oct 2021 - Present        Volunteered in Social Activity – “Aatmabodh” | SW&D, VIT Pune              Sept ‘21 – Oct ‘21 \n"
     ]
    }
   ],
   "source": [
    "str_resume = \"\"\n",
    "for i in resume:\n",
    "    str_resume += i\n",
    "    str_resume += \" \"\n",
    "print(str_resume)"
   ]
  },
  {
   "cell_type": "code",
   "execution_count": 8,
   "id": "189823f6",
   "metadata": {},
   "outputs": [
    {
     "name": "stdout",
     "output_type": "stream",
     "text": [
      "Ketan\n",
      "\n",
      "Yatin\n",
      "\n",
      "Gangwal\n",
      "\n",
      "       \n",
      "\n",
      "ketangangwal1008@gmail\n",
      "\n",
      "com\n",
      "\n",
      "|\n",
      "\n",
      "Ketan\n",
      "\n",
      "Gangwal\n",
      "\n",
      "|\n",
      "\n",
      "Ketang1008\n",
      "\n",
      "|\n",
      "\n",
      "+91\n",
      "\n",
      "9579763299\n",
      "\n",
      "Education\n",
      "\n",
      " \n",
      "\n",
      "Vishwakarma\n",
      "\n",
      "Institute\n",
      "\n",
      "of\n",
      "\n",
      "Technology\n",
      "\n",
      "Pune\n",
      "\n",
      " \n",
      "\n",
      "BTech\n",
      "\n",
      "Artificial\n",
      "\n",
      "Intelligence\n",
      "\n",
      "and\n",
      "\n",
      "Data\n",
      "\n",
      "Science\n",
      "\n",
      "                   \n",
      "\n",
      "2020\n",
      "\n",
      "–\n",
      "\n",
      "2024\n",
      "\n",
      " \n",
      "\n",
      "9\n",
      "\n",
      "27/10\n",
      "\n",
      "Experience\n",
      "\n",
      " \n",
      "\n",
      "News\n",
      "\n",
      "App\n",
      "\n",
      "|\n",
      "\n",
      "Flutter\n",
      "\n",
      ",\n",
      "\n",
      "Dart\n",
      "\n",
      ",\n",
      "\n",
      "API\n",
      "\n",
      ",\n",
      "\n",
      "Postman\n",
      "\n",
      "  \n",
      "\n",
      "News\n",
      "\n",
      "App\n",
      "\n",
      "using\n",
      "\n",
      "Flutter\n",
      "\n",
      "and\n",
      "\n",
      "NewsAPI\n",
      "\n",
      " \n",
      "\n",
      "This\n",
      "\n",
      "app\n",
      "\n",
      "offers\n",
      "\n",
      "latest\n",
      "\n",
      "news\n",
      "\n",
      ",\n",
      "\n",
      "news\n",
      "\n",
      "according\n",
      "\n",
      "to\n",
      "\n",
      "different\n",
      "\n",
      "categories\n",
      "\n",
      "and\n",
      "\n",
      "news\n",
      "\n",
      "from\n",
      "\n",
      "multiple\n",
      "\n",
      "trusted\n",
      "\n",
      "sources\n",
      "\n",
      " \n",
      "\n",
      "Recipe\n",
      "\n",
      "App\n",
      "\n",
      "|\n",
      "\n",
      "Flutter\n",
      "\n",
      ",\n",
      "\n",
      "Dart\n",
      "\n",
      ",\n",
      "\n",
      "API\n",
      "\n",
      ",\n",
      "\n",
      "Postman\n",
      "\n",
      "  \n",
      "\n",
      "A\n",
      "\n",
      "recipe\n",
      "\n",
      "app\n",
      "\n",
      "with\n",
      "\n",
      "Flutter\n",
      "\n",
      "and\n",
      "\n",
      "Edamam\n",
      "\n",
      "API\n",
      "\n",
      " \n",
      "\n",
      "This\n",
      "\n",
      "app\n",
      "\n",
      "offers\n",
      "\n",
      "all\n",
      "\n",
      "the\n",
      "\n",
      "recipes\n",
      "\n",
      "related\n",
      "\n",
      "to\n",
      "\n",
      "the\n",
      "\n",
      "items\n",
      "\n",
      "entered\n",
      "\n",
      "by\n",
      "\n",
      "the\n",
      "\n",
      "user\n",
      "\n",
      " \n",
      "\n",
      "Real\n",
      "\n",
      "Time\n",
      "\n",
      "traffic\n",
      "\n",
      "Management\n",
      "\n",
      "System\n",
      "\n",
      "|\n",
      "\n",
      "IP\n",
      "\n",
      ",\n",
      "\n",
      "Machine\n",
      "\n",
      "learning\n",
      "\n",
      ",\n",
      "\n",
      "IOT\n",
      "\n",
      ",\n",
      "\n",
      "YOLO\n",
      "\n",
      ",\n",
      "\n",
      "Firebase\n",
      "\n",
      "Database\n",
      "\n",
      " \n",
      "\n",
      "Ever\n",
      "\n",
      "–\n",
      "\n",
      "increasing\n",
      "\n",
      "traffic\n",
      "\n",
      "requires\n",
      "\n",
      "real\n",
      "\n",
      "-\n",
      "\n",
      "time\n",
      "\n",
      "road\n",
      "\n",
      "traffic\n",
      "\n",
      "density\n",
      "\n",
      "calculations\n",
      "\n",
      "for\n",
      "\n",
      "improving\n",
      "\n",
      "the\n",
      "\n",
      "current\n",
      "\n",
      "traffic\n",
      "\n",
      "management\n",
      "\n",
      "system\n",
      "\n",
      " \n",
      "\n",
      "By\n",
      "\n",
      "using\n",
      "\n",
      "Image\n",
      "\n",
      "Processing\n",
      "\n",
      "and\n",
      "\n",
      "Machine\n",
      "\n",
      "learning\n",
      "\n",
      ",\n",
      "\n",
      "traffic\n",
      "\n",
      "density\n",
      "\n",
      "has\n",
      "\n",
      "been\n",
      "\n",
      "calculated\n",
      "\n",
      "and\n",
      "\n",
      "traffic\n",
      "\n",
      "signals\n",
      "\n",
      "have\n",
      "\n",
      "been\n",
      "\n",
      "adjusted\n",
      "\n",
      "by\n",
      "\n",
      "calculating\n",
      "\n",
      "the\n",
      "\n",
      "green\n",
      "\n",
      "signal\n",
      "\n",
      "time\n",
      "\n",
      "that\n",
      "\n",
      "must\n",
      "\n",
      "be\n",
      "\n",
      "allotted\n",
      "\n",
      "to\n",
      "\n",
      "each\n",
      "\n",
      "lane\n",
      "\n",
      "at\n",
      "\n",
      "a\n",
      "\n",
      "junction\n",
      "\n",
      "using\n",
      "\n",
      "machine\n",
      "\n",
      "learning\n",
      "\n",
      " \n",
      "\n",
      "Covid\n",
      "\n",
      "19\n",
      "\n",
      "Analysis\n",
      "\n",
      "|\n",
      "\n",
      "R\n",
      "\n",
      ",\n",
      "\n",
      "Data\n",
      "\n",
      "Analysis\n",
      "\n",
      "  \n",
      "\n",
      "Visualized\n",
      "\n",
      "the\n",
      "\n",
      "changes\n",
      "\n",
      "in\n",
      "\n",
      "the\n",
      "\n",
      "number\n",
      "\n",
      "of\n",
      "\n",
      "affected\n",
      "\n",
      "cases\n",
      "\n",
      "over\n",
      "\n",
      "time\n",
      "\n",
      ",\n",
      "\n",
      "changes\n",
      "\n",
      "in\n",
      "\n",
      "the\n",
      "\n",
      "cases\n",
      "\n",
      "over\n",
      "\n",
      "time\n",
      "\n",
      "at\n",
      "\n",
      "country\n",
      "\n",
      "level\n",
      "\n",
      "and\n",
      "\n",
      "the\n",
      "\n",
      "latest\n",
      "\n",
      "number\n",
      "\n",
      "of\n",
      "\n",
      "cases\n",
      "\n",
      "using\n",
      "\n",
      "ggplot2\n",
      "\n",
      " \n",
      "\n",
      "Analyzed\n",
      "\n",
      "the\n",
      "\n",
      "total\n",
      "\n",
      "number\n",
      "\n",
      "of\n",
      "\n",
      "cases\n",
      "\n",
      ",\n",
      "\n",
      "Deaths\n",
      "\n",
      "and\n",
      "\n",
      "Recoveries\n",
      "\n",
      "of\n",
      "\n",
      "top\n",
      "\n",
      "9\n",
      "\n",
      "states\n",
      "\n",
      "of\n",
      "\n",
      "India\n",
      "\n",
      "Experience\n",
      "\n",
      " \n",
      "\n",
      "Android\n",
      "\n",
      "Developer\n",
      "\n",
      "|\n",
      "\n",
      "TRF\n",
      "\n",
      ",\n",
      "\n",
      "VIT\n",
      "\n",
      "Pune\n",
      "\n",
      "Oct\n",
      "\n",
      "2021\n",
      "\n",
      "–\n",
      "\n",
      "Present\n",
      "\n",
      " \n",
      "\n",
      "Learning\n",
      "\n",
      "about\n",
      "\n",
      "cross\n",
      "\n",
      "platform\n",
      "\n",
      "development\n",
      "\n",
      "using\n",
      "\n",
      "Flutter\n",
      "\n",
      "as\n",
      "\n",
      "a\n",
      "\n",
      "development\n",
      "\n",
      "tool\n",
      "\n",
      "to\n",
      "\n",
      "develop\n",
      "\n",
      "various\n",
      "\n",
      "applications\n",
      "\n",
      "for\n",
      "\n",
      "better\n",
      "\n",
      "development\n",
      "\n",
      "of\n",
      "\n",
      "the\n",
      "\n",
      "society\n",
      "\n",
      "Technical\n",
      "\n",
      "Skills\n",
      "\n",
      "Proficient\n",
      "\n",
      " \n",
      "\n",
      "C\n",
      "\n",
      "/\n",
      "\n",
      "C++\n",
      "\n",
      ",\n",
      "\n",
      "Python\n",
      "\n",
      ",\n",
      "\n",
      "Java\n",
      "\n",
      ",\n",
      "\n",
      "R\n",
      "\n",
      ",\n",
      "\n",
      "Dart\n",
      "\n",
      ",\n",
      "\n",
      "Application\n",
      "\n",
      "Development\n",
      "\n",
      "(\n",
      "\n",
      "Flutter\n",
      "\n",
      ")\n",
      "\n",
      " \n",
      "\n",
      "Moderately\n",
      "\n",
      "Experience\n",
      "\n",
      " \n",
      "\n",
      "SQL\n",
      "\n",
      ",\n",
      "\n",
      "Machine\n",
      "\n",
      "learning\n",
      "\n",
      ",\n",
      "\n",
      "IOT\n",
      "\n",
      ",\n",
      "\n",
      "Virtual\n",
      "\n",
      "Box\n",
      "\n",
      "Developer\n",
      "\n",
      "Tools\n",
      "\n",
      " \n",
      "\n",
      "Git\n",
      "\n",
      ",\n",
      "\n",
      "Linux\n",
      "\n",
      ",\n",
      "\n",
      "VS\n",
      "\n",
      "Code\n",
      "\n",
      ",\n",
      "\n",
      "Google\n",
      "\n",
      "Colab\n",
      "\n",
      ",\n",
      "\n",
      "Jupyter\n",
      "\n",
      "Notebook\n",
      "\n",
      ",\n",
      "\n",
      "Eclipse\n",
      "\n",
      "Extracurriculars\n",
      "\n",
      " \n",
      "\n",
      "Administrator\n",
      "\n",
      "|\n",
      "\n",
      "TRF\n",
      "\n",
      ",\n",
      "\n",
      "VIT\n",
      "\n",
      "Pune\n",
      "\n",
      "                                                                  \n",
      "\n",
      "Oct\n",
      "\n",
      "2021\n",
      "\n",
      "-\n",
      "\n",
      "Present\n",
      "\n",
      "       \n",
      "\n",
      "Volunteered\n",
      "\n",
      "in\n",
      "\n",
      "Social\n",
      "\n",
      "Activity\n",
      "\n",
      "–\n",
      "\n",
      "“\n",
      "\n",
      "Aatmabodh\n",
      "\n",
      "”\n",
      "\n",
      "|\n",
      "\n",
      "SW&D\n",
      "\n",
      ",\n",
      "\n",
      "VIT\n",
      "\n",
      "Pune\n",
      "\n",
      "             \n",
      "\n",
      "Sept\n",
      "\n",
      "‘\n",
      "\n",
      "21\n",
      "\n",
      "–\n",
      "\n",
      "Oct\n",
      "\n",
      "‘\n",
      "\n",
      "21\n",
      "\n"
     ]
    }
   ],
   "source": [
    "doc = nlp(str_resume)\n",
    "for i in doc:\n",
    "    print(i)\n",
    "    print()"
   ]
  },
  {
   "cell_type": "markdown",
   "id": "c37097c6",
   "metadata": {},
   "source": [
    "# Appending into Profile List"
   ]
  },
  {
   "cell_type": "code",
   "execution_count": 9,
   "id": "02928f1c",
   "metadata": {},
   "outputs": [
    {
     "name": "stdout",
     "output_type": "stream",
     "text": [
      "[Ketan, Yatin, Gangwal,        , ketangangwal1008@gmail, com, |, Ketan, Gangwal, |, Ketang1008, |, +91, 9579763299]\n"
     ]
    }
   ],
   "source": [
    "profile = [0, 0]\n",
    "sec_profile = []\n",
    "for i in doc:\n",
    "#     print(i.text)\n",
    "    if i.text.upper()=='EDUCATION':\n",
    "        break\n",
    "    else:\n",
    "        sec_profile.append(i) \n",
    "        \n",
    "# print(profile)\n",
    "# sec_profile = resume[profile[0]: profile[1]]\n",
    "print(sec_profile)"
   ]
  },
  {
   "cell_type": "markdown",
   "id": "0923c9cb",
   "metadata": {},
   "source": [
    "# Appending into Education List"
   ]
  },
  {
   "cell_type": "code",
   "execution_count": 10,
   "id": "d43c3735",
   "metadata": {},
   "outputs": [
    {
     "name": "stdout",
     "output_type": "stream",
     "text": [
      "[Education, Education,  , Vishwakarma, Institute, of, Technology, Pune,  , BTech, Artificial, Intelligence, and, Data, Science,                    , 2020, –, 2024,  , 9, 27/10]\n"
     ]
    }
   ],
   "source": [
    "education = [0, 0]\n",
    "sec_education = []\n",
    "flag = False\n",
    "for i in doc:\n",
    "    if i.text.upper()=='EDUCATION':\n",
    "        sec_education.append(i)\n",
    "        flag = True\n",
    "    if 'Experience' in i.text or 'EXPERIENCE' in i.text or 'Projects' in i.text or 'PROJECTS' in i.text:\n",
    "        break\n",
    "    if 'Skills' in i.text or 'SKILLS' in i.text:\n",
    "        break\n",
    "    elif flag==True:\n",
    "        sec_education.append(i)\n",
    "\n",
    "# print(education)\n",
    "# print(resume[education[0]:education[1]])\n",
    "# sec_education = resume[education[0]:education[1]]\n",
    "print(sec_education)\n",
    "\n",
    "# education = []\n",
    "# flag = False\n",
    "# for i in resume:\n",
    "# #     print(i)\n",
    "# #     print()\n",
    "#     if ('EDUCATION' or 'Education' or 'education') in i:\n",
    "#         education.append(i)\n",
    "#         flag = True\n",
    "#     elif i=='Experience' or i=='EXPERIENCE' or i=='experience':\n",
    "#         break\n",
    "#     elif ('Skills' or 'SKILLS') in i:\n",
    "#         break\n",
    "#     elif flag==True:\n",
    "#         education.append(i)\n",
    "    \n",
    "# #     elif ('CERTIFICATIONS' or 'Certifications' or 'certifications') in i:\n",
    "# #         break\n",
    "    \n",
    "# print(education)"
   ]
  },
  {
   "cell_type": "markdown",
   "id": "17af14ac",
   "metadata": {},
   "source": [
    "# Appending into Experience List"
   ]
  },
  {
   "cell_type": "code",
   "execution_count": 11,
   "id": "2389b5b1",
   "metadata": {},
   "outputs": [
    {
     "name": "stdout",
     "output_type": "stream",
     "text": [
      "['News', 'App', 'Flutter', 'Dart', 'API', 'Postman', 'News', 'App', 'Flutter', 'NewsAPI', 'Recipe', 'App', 'Flutter', 'Dart', 'API', 'Postman', 'Flutter', 'Edamam', 'Real', 'Time', 'Management', 'System', 'IP', 'Machine', 'learning', 'IOT', 'YOLO', 'Firebase', 'Database', 'Image', 'Processing', 'Machine', 'Covid', 'Analysis', 'Data', 'Analysis', 'Deaths', 'Recoveries', 'India', 'Experience', 'Experience', 'Android', 'Developer', 'TRF', 'VIT', 'Pune', 'Oct', 'Present', 'Learning', 'Flutter', 'Technical']\n"
     ]
    }
   ],
   "source": [
    "experience = [0, 0]\n",
    "sec_experience = []\n",
    "flag = False\n",
    "for i in doc:\n",
    "#     print(i)\n",
    "#     print()\n",
    "    if i.text=='Experience' or i.text=='EXPERIENCE' or i.text=='PROJECTS' or i.text=='Projects':\n",
    "        sec_experience.append(i)\n",
    "        flag = True\n",
    "    if i.text=='SKILLS' or i.text=='Skills':\n",
    "        break\n",
    "    elif flag==True:\n",
    "        sec_experience.append(i)\n",
    "\n",
    "\n",
    "# print(experience)\n",
    "# sec_experience = resume[experience[0]:experience[1]+1]\n",
    "sec_exp = []\n",
    "# print(sec_experience)\n",
    "for i in sec_experience:\n",
    "    if i.pos_ != 'PUNCT' and i.pos_ == 'PROPN':\n",
    "        sec_exp.append(i.text)\n",
    "print(sec_exp)"
   ]
  },
  {
   "cell_type": "markdown",
   "id": "7966ad55",
   "metadata": {},
   "source": [
    "# Creating Experience list for context"
   ]
  },
  {
   "cell_type": "code",
   "execution_count": 12,
   "id": "d43c942b",
   "metadata": {},
   "outputs": [
    {
     "name": "stdout",
     "output_type": "stream",
     "text": [
      "['Recipe', 'Flutter', 'Image', 'Analysis', 'Postman', 'Dart', 'System', 'IOT', 'YOLO', 'TRF', 'Time', 'Processing', 'Pune', 'Android', 'Deaths', 'Oct', 'Database', 'Real', 'News', 'Technical', 'NewsAPI', 'Experience', 'Learning', 'Present', 'learning', 'India', 'IP', 'Edamam', 'Management', 'App', 'API', 'Recoveries', 'Data', 'Machine', 'Firebase', 'Developer', 'VIT', 'Covid']\n"
     ]
    }
   ],
   "source": [
    "final_exp = []\n",
    "# print(type(sec_experience[0]))\n",
    "for i in sec_exp:\n",
    "    final_exp.append(i)\n",
    "# print(final_exp)\n",
    "set1 = set(final_exp)\n",
    "final_exp.clear()\n",
    "for i in set1:\n",
    "    final_exp.append(i)\n",
    "print(final_exp)"
   ]
  },
  {
   "cell_type": "markdown",
   "id": "22e6227d",
   "metadata": {},
   "source": [
    "# Appending into Skills List"
   ]
  },
  {
   "cell_type": "code",
   "execution_count": 13,
   "id": "adea479b",
   "metadata": {},
   "outputs": [
    {
     "name": "stdout",
     "output_type": "stream",
     "text": [
      "[Skills, Skills, Proficient,  , C, /, C++, ,, Python, ,, Java, ,, R, ,, Dart, ,, Application, Development, (, Flutter, ),  , Moderately, Experience,  , SQL, ,, Machine, learning, ,, IOT, ,, Virtual, Box, Developer, Tools,  , Git, ,, Linux, ,, VS, Code, ,, Google, Colab, ,, Jupyter, Notebook, ,, Eclipse]\n"
     ]
    }
   ],
   "source": [
    "skills = [0, 0]\n",
    "sec_skills = []\n",
    "flag = False\n",
    "for i in doc:\n",
    "    if i.text=='SKILLS' or i.text=='Skills':\n",
    "        sec_skills.append(i)\n",
    "        flag = True\n",
    "    if i.text=='Extracurriculars' or i.text=='EXTRACURRICULARS':\n",
    "        break\n",
    "    elif flag==True:\n",
    "        sec_skills.append(i)\n",
    "        \n",
    "# print(skills)\n",
    "# sec_skills = resume[skills[0]:skills[1]]\n",
    "print(sec_skills)\n"
   ]
  },
  {
   "cell_type": "markdown",
   "id": "6838e57c",
   "metadata": {},
   "source": [
    "# Appending into Extracurriculars List"
   ]
  },
  {
   "cell_type": "code",
   "execution_count": 14,
   "id": "42f32816",
   "metadata": {},
   "outputs": [
    {
     "name": "stdout",
     "output_type": "stream",
     "text": [
      "[Extracurriculars,  , Administrator, |, TRF, ,, VIT, Pune,                                                                   , Oct, 2021, -, Present,        , Volunteered, in, Social, Activity, –, “, Aatmabodh, ”, |, SW&D, ,, VIT, Pune,              , Sept, ‘, 21, –, Oct, ‘, 21]\n"
     ]
    }
   ],
   "source": [
    "extracurriculars = [0, 0]\n",
    "sec_extracurriculars = []\n",
    "flag = False\n",
    "for i in doc:\n",
    "    if i.text=='Extracurriculars' or i.text=='EXTRACURRICULARS':\n",
    "        sec_extracurriculars.append(i)\n",
    "        flag = True\n",
    "    elif flag==True:\n",
    "        sec_extracurriculars.append(i)\n",
    "# print(certifications)\n",
    "# sec_certifications = resume[certifications[0]:certifications[1]]\n",
    "print(sec_extracurriculars)"
   ]
  },
  {
   "cell_type": "markdown",
   "id": "4e7dd83a",
   "metadata": {},
   "source": [
    "# Creating Skills List for context"
   ]
  },
  {
   "cell_type": "code",
   "execution_count": 15,
   "id": "e9ed7299",
   "metadata": {},
   "outputs": [],
   "source": [
    "from nltk.stem import WordNetLemmatizer\n",
    "  \n",
    "lemmatizer = WordNetLemmatizer()"
   ]
  },
  {
   "cell_type": "code",
   "execution_count": 16,
   "id": "45ba76cd",
   "metadata": {},
   "outputs": [
    {
     "name": "stdout",
     "output_type": "stream",
     "text": [
      "[Skills, Skills, Proficient, C, /, C++, Python, Java, R, Dart, Application, Development, Flutter,  , Moderately, Experience, SQL, Machine, learning, IOT, Virtual, Box, Developer, Tools, Git, Linux, VS, Code, Google, Colab, Jupyter, Notebook, Eclipse]\n"
     ]
    }
   ],
   "source": [
    "sec_skills\n",
    "for i in sec_skills:\n",
    "    if i.pos_=='PUNCT':\n",
    "        sec_skills.remove(i)\n",
    "    if i.text==\" \":\n",
    "        sec_skills.remove(i)\n",
    "\n",
    "print(sec_skills)\n",
    "# print(type(sec_skills[0].text))"
   ]
  },
  {
   "cell_type": "code",
   "execution_count": 17,
   "id": "8cd82a72",
   "metadata": {},
   "outputs": [
    {
     "name": "stdout",
     "output_type": "stream",
     "text": [
      "['Flutter', 'Tools', 'Jupyter', 'Dart', 'VS', 'IOT', 'Google', 'Proficient', 'Eclipse', 'C++', 'SQL', 'R', 'Box', 'Colab', 'Notebook', 'learning', 'Code', 'Application', 'Git', 'Java', 'Linux', 'Python', 'Development', 'Virtual', 'C', 'Machine', 'Developer', 'Skills']\n"
     ]
    }
   ],
   "source": [
    "Skills = []\n",
    "for i in sec_skills:\n",
    "    if i.pos_==\"PROPN\":\n",
    "        Skills.append(i.text)\n",
    "# print(Skills)\n",
    "Skills = set(Skills)\n",
    "# print(Skills)\n",
    "# Skills = list(Skills)\n",
    "final_skills = []\n",
    "for i in Skills:\n",
    "    final_skills.append(i)\n",
    "print(final_skills)"
   ]
  },
  {
   "cell_type": "code",
   "execution_count": 18,
   "id": "7ea23592",
   "metadata": {},
   "outputs": [
    {
     "name": "stdout",
     "output_type": "stream",
     "text": [
      "['Flutter', 'Tools', 'Jupyter', 'Dart', 'VS', 'IOT', 'Google', 'Proficient', 'Eclipse', 'C++', 'SQL', 'R', 'Box', 'Colab', 'Notebook', 'learning', 'Code', 'Application', 'Git', 'Java', 'Linux', 'Python', 'Development', 'Virtual', 'C', 'Machine', 'Developer', 'Skills']\n"
     ]
    }
   ],
   "source": [
    "print(final_skills)"
   ]
  },
  {
   "cell_type": "code",
   "execution_count": 19,
   "id": "f54466fc",
   "metadata": {},
   "outputs": [
    {
     "name": "stdout",
     "output_type": "stream",
     "text": [
      "['Recipe', 'Flutter', 'Image', 'Analysis', 'Postman', 'Dart', 'System', 'IOT', 'YOLO', 'TRF', 'Time', 'Processing', 'Pune', 'Android', 'Deaths', 'Oct', 'Database', 'Real', 'News', 'Technical', 'NewsAPI', 'Experience', 'Learning', 'Present', 'learning', 'India', 'IP', 'Edamam', 'Management', 'App', 'API', 'Recoveries', 'Data', 'Machine', 'Firebase', 'Developer', 'VIT', 'Covid']\n"
     ]
    }
   ],
   "source": [
    "print(final_exp)"
   ]
  },
  {
   "cell_type": "markdown",
   "id": "af9c727b",
   "metadata": {},
   "source": [
    "# Creating the Final List of skills by finding out context"
   ]
  },
  {
   "cell_type": "code",
   "execution_count": 20,
   "id": "35f9823c",
   "metadata": {},
   "outputs": [],
   "source": [
    "report_skills = []"
   ]
  },
  {
   "cell_type": "code",
   "execution_count": 21,
   "id": "ba125c64",
   "metadata": {},
   "outputs": [],
   "source": [
    "from sentence_transformers import SentenceTransformer, util"
   ]
  },
  {
   "cell_type": "code",
   "execution_count": 22,
   "id": "146d4fe4",
   "metadata": {},
   "outputs": [],
   "source": [
    "def context(Skills, final_exp):\n",
    "    model = SentenceTransformer('all-MiniLM-L6-v2')\n",
    "    sentences1 = [final_exp]\n",
    "    sentences2 = [Skills]\n",
    "    \n",
    "    embeddings1 = model.encode(sentences1, convert_to_tensor=True)\n",
    "    embeddings2 = model.encode(sentences2, convert_to_tensor=True)\n",
    "    cosine_scores = util.cos_sim(embeddings1, embeddings2)\n",
    "    if cosine_scores[0][0]>0.45:\n",
    "        report_skills.append(Skills)\n",
    "        print(Skills, final_exp, cosine_scores[0][0])"
   ]
  },
  {
   "cell_type": "code",
   "execution_count": 23,
   "id": "76eb190a",
   "metadata": {},
   "outputs": [
    {
     "name": "stdout",
     "output_type": "stream",
     "text": [
      "Flutter Flutter tensor(1.0000)\n",
      "Flutter Dart tensor(0.7273)\n",
      "Flutter Android tensor(0.4701)\n",
      "Flutter App tensor(0.4526)\n",
      "Tools Developer tensor(0.4572)\n",
      "Dart Flutter tensor(0.7273)\n",
      "Dart Dart tensor(1.0000)\n",
      "IOT IOT tensor(1.0000)\n",
      "Google Android tensor(0.4570)\n",
      "SQL Database tensor(0.6956)\n",
      "SQL Data tensor(0.4736)\n",
      "Notebook Machine tensor(0.4501)\n",
      "learning Processing tensor(0.4887)\n",
      "learning Learning tensor(1.0000)\n",
      "learning learning tensor(1.0000)\n",
      "learning Data tensor(0.4596)\n",
      "Code Developer tensor(0.4765)\n",
      "Application Processing tensor(0.4734)\n",
      "Application App tensor(0.7298)\n",
      "Java Android tensor(0.5411)\n",
      "Linux Android tensor(0.4838)\n",
      "Development Learning tensor(0.4997)\n",
      "Development learning tensor(0.4997)\n",
      "Development Management tensor(0.4685)\n",
      "Development Developer tensor(0.7081)\n",
      "Virtual VIT tensor(0.4873)\n",
      "Machine System tensor(0.5628)\n",
      "Machine Processing tensor(0.4564)\n",
      "Machine Machine tensor(1.0000)\n",
      "Developer Developer tensor(1.0000)\n",
      "Skills Experience tensor(0.4608)\n",
      "Skills Learning tensor(0.5411)\n",
      "Skills learning tensor(0.5411)\n"
     ]
    }
   ],
   "source": [
    "for i in final_skills:\n",
    "    for j in final_exp:\n",
    "        context(i, j)"
   ]
  },
  {
   "cell_type": "code",
   "execution_count": 24,
   "id": "6d2bf09d",
   "metadata": {},
   "outputs": [
    {
     "name": "stdout",
     "output_type": "stream",
     "text": [
      "['learning', 'SQL', 'Java', 'Flutter', 'Code', 'Linux', 'Application', 'Tools', 'Development', 'Virtual', 'Dart', 'Machine', 'Developer', 'IOT', 'Google', 'Notebook', 'Skills']\n"
     ]
    }
   ],
   "source": [
    "# print(report_skills)\n",
    "report_skills_set = set(report_skills)\n",
    "report_skills.clear()\n",
    "for i in report_skills_set:\n",
    "    report_skills.append(i)\n",
    "print(report_skills)"
   ]
  },
  {
   "cell_type": "code",
   "execution_count": 25,
   "id": "2e5267c8",
   "metadata": {
    "scrolled": true
   },
   "outputs": [
    {
     "name": "stdout",
     "output_type": "stream",
     "text": [
      "60.71428571428571\n"
     ]
    }
   ],
   "source": [
    "skills_perct = len(report_skills)/len(final_skills)\n",
    "print(skills_perct*100)"
   ]
  },
  {
   "cell_type": "markdown",
   "id": "83d6d0ed",
   "metadata": {},
   "source": [
    "# Final Sections of report"
   ]
  },
  {
   "cell_type": "code",
   "execution_count": 56,
   "id": "6c4bf900",
   "metadata": {},
   "outputs": [
    {
     "name": "stdout",
     "output_type": "stream",
     "text": [
      "KetanYatinGangwal       ketangangwal1008@gmailcom|KetanGangwal|Ketang1008|+919579763299\n"
     ]
    }
   ],
   "source": [
    "profile_string = \"\"\n",
    "for i in sec_profile:\n",
    "    profile_string += i.text\n",
    "print(profile_string)"
   ]
  },
  {
   "cell_type": "code",
   "execution_count": 66,
   "id": "715910cd",
   "metadata": {},
   "outputs": [
    {
     "name": "stdout",
     "output_type": "stream",
     "text": [
      "Education Education   Vishwakarma Institute of Technology Pune   BTech Artificial Intelligence and Data Science                     2020 – 2024   9 27/10 \n"
     ]
    }
   ],
   "source": [
    "education_string = \"\"\n",
    "for i in sec_education:\n",
    "    education_string += i.text\n",
    "    education_string += \" \"\n",
    "print(education_string)"
   ]
  },
  {
   "cell_type": "code",
   "execution_count": 67,
   "id": "c6d28356",
   "metadata": {},
   "outputs": [
    {
     "name": "stdout",
     "output_type": "stream",
     "text": [
      "News App Flutter Dart API Postman News App Flutter NewsAPI Recipe App Flutter Dart API Postman Flutter Edamam Real Time Management System IP Machine learning IOT YOLO Firebase Database Image Processing Machine Covid Analysis Data Analysis Deaths Recoveries India Experience Experience Android Developer TRF VIT Pune Oct Present Learning Flutter Technical \n"
     ]
    }
   ],
   "source": [
    "experience_string = \"\"\n",
    "for i in sec_exp:\n",
    "    experience_string += i\n",
    "    experience_string += \" \"\n",
    "print(experience_string)"
   ]
  },
  {
   "cell_type": "code",
   "execution_count": 68,
   "id": "feb7c14e",
   "metadata": {},
   "outputs": [
    {
     "name": "stdout",
     "output_type": "stream",
     "text": [
      "learning SQL Java Flutter Code Linux Application Tools Development Virtual Dart Machine Developer IOT Google Notebook Skills \n"
     ]
    }
   ],
   "source": [
    "skills_string = \"\"\n",
    "for i in report_skills:\n",
    "    skills_string += i\n",
    "    skills_string += \" \"\n",
    "print(skills_string)"
   ]
  },
  {
   "cell_type": "code",
   "execution_count": 69,
   "id": "ced8fd58",
   "metadata": {},
   "outputs": [
    {
     "name": "stdout",
     "output_type": "stream",
     "text": [
      "Extracurriculars Administrator|TRF,VITPune                                                                  Oct2021-Present       VolunteeredinSocialActivity–“Aatmabodh”|SW&D,VITPune             Sept‘21–Oct‘21\n"
     ]
    }
   ],
   "source": [
    "extracurr_string = \"\"\n",
    "for i in sec_extracurriculars:\n",
    "    extracurr_string += i.text\n",
    "print(extracurr_string)"
   ]
  },
  {
   "cell_type": "code",
   "execution_count": 70,
   "id": "16c800e2",
   "metadata": {},
   "outputs": [],
   "source": [
    "def generate_report(profile_string, education_string, experience_string, skills_string, extracurr_string):\n",
    "    with open('report3.txt', 'w')as file:\n",
    "        file.write(f\"Report of Resume\\n\")\n",
    "        file.write('\\n')\n",
    "        file.write(\"Profile: \")\n",
    "        file.write('\\n')\n",
    "        file.write(profile_string)\n",
    "        file.write('\\n')\n",
    "        file.write('\\n')\n",
    "        file.write(\"Education: \")\n",
    "        file.write('\\n')\n",
    "        file.write(education_string)\n",
    "        file.write('\\n')\n",
    "        file.write('\\n')\n",
    "        file.write(\"Experience: \")\n",
    "        file.write('\\n')\n",
    "        file.write(experience_string)\n",
    "        file.write('\\n')\n",
    "        file.write('\\n')\n",
    "        file.write(\"Skills: \")\n",
    "        file.write('\\n')\n",
    "        file.write(skills_string)\n",
    "        file.write('\\n')\n",
    "        file.write('\\n')\n",
    "        file.write(\"Extracurriculars: \")\n",
    "        file.write('\\n')\n",
    "        file.write(extracurr_string)\n",
    "        file.write('\\n')\n",
    "        file.write('\\n')"
   ]
  },
  {
   "cell_type": "markdown",
   "id": "91f6837c",
   "metadata": {},
   "source": [
    "# Whether Classified or not and generating report accordingly"
   ]
  },
  {
   "cell_type": "code",
   "execution_count": 71,
   "id": "4469c0bf",
   "metadata": {},
   "outputs": [
    {
     "name": "stdout",
     "output_type": "stream",
     "text": [
      "Resume is accepted\n"
     ]
    }
   ],
   "source": [
    "if skills_perct>0.50:\n",
    "    print(\"Resume is accepted\")\n",
    "    generate_report(profile_string, education_string, experience_string, skills_string, extracurr_string)\n",
    "else:\n",
    "    print(\"Resume is rejected\")"
   ]
  },
  {
   "cell_type": "markdown",
   "id": "58028446",
   "metadata": {},
   "source": []
  }
 ],
 "metadata": {
  "kernelspec": {
   "display_name": "Python 3 (ipykernel)",
   "language": "python",
   "name": "python3"
  },
  "language_info": {
   "codemirror_mode": {
    "name": "ipython",
    "version": 3
   },
   "file_extension": ".py",
   "mimetype": "text/x-python",
   "name": "python",
   "nbconvert_exporter": "python",
   "pygments_lexer": "ipython3",
   "version": "3.9.7"
  }
 },
 "nbformat": 4,
 "nbformat_minor": 5
}
